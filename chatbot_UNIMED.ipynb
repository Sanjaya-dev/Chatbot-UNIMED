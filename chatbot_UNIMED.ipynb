{
  "nbformat": 4,
  "nbformat_minor": 0,
  "metadata": {
    "colab": {
      "name": "chatbot_UNIMED.ipynb",
      "provenance": [],
      "collapsed_sections": []
    },
    "kernelspec": {
      "name": "python3",
      "display_name": "Python 3"
    },
    "language_info": {
      "name": "python"
    }
  },
  "cells": [
    {
      "cell_type": "markdown",
      "source": [
        "link foto :\n",
        "https://drive.google.com/drive/folders/1ZuGhFurMPqmh62bT0B17qcWONEDRu7UP?usp=sharing\n",
        "\n",
        "dataset :\n",
        "https://drive.google.com/file/d/1mYGusV87G5gIjezWvFUKXs-DMBdfC6xz/view?usp=sharing"
      ],
      "metadata": {
        "id": "DY59X4l5jYQn"
      }
    },
    {
      "cell_type": "markdown",
      "source": [
        "# Telegram Bot API"
      ],
      "metadata": {
        "id": "ne9t3RAkYkZE"
      }
    },
    {
      "cell_type": "code",
      "source": [
        "pip install pyTelegramBotAPI"
      ],
      "metadata": {
        "id": "1Mz-Po5vjYQp"
      },
      "execution_count": null,
      "outputs": []
    },
    {
      "cell_type": "markdown",
      "source": [
        "# Load Data and Training Data"
      ],
      "metadata": {
        "id": "L8uPYxOGYaga"
      }
    },
    {
      "cell_type": "code",
      "source": [
        "import random\n",
        "import json\n",
        "import pickle\n",
        "import numpy as np\n",
        "import nltk\n",
        "nltk.download('punkt')\n",
        "nltk.download('wordnet')\n",
        "from nltk.stem import WordNetLemmatizer\n",
        "from tensorflow.keras.models import Sequential\n",
        "from tensorflow.keras.layers import Dense, Activation, Dropout\n",
        "from tensorflow.keras.optimizers import SGD\n",
        "lemmatizer = WordNetLemmatizer()\n",
        "\n",
        "intents = json.loads(open('intents.json').read())\n",
        "\n",
        "words = []\n",
        "classes = []\n",
        "documents = []\n",
        "ignore_letters = ['?', '!', '.', ',']\n",
        "\n",
        "for intent in intents['intents']:\n",
        "    for pattern in intent['patterns']:\n",
        "         word_list = nltk.word_tokenize(pattern)\n",
        "         words.extend(word_list)\n",
        "         documents.append((word_list, intent['tag']))\n",
        "         if intent['tag'] not in classes:\n",
        "             classes.append(intent['tag'])\n",
        "\n",
        "words = [lemmatizer.lemmatize(word) for word in words if word not in ignore_letters]\n",
        "words = sorted(set(words))\n",
        "\n",
        "classes = sorted(set(classes))\n",
        "\n",
        "pickle.dump(words, open('words.pkl','wb'))\n",
        "pickle.dump(classes, open('classes.pkl', 'wb'))\n",
        "\n",
        "training = []\n",
        "output_empty = [0] * len(classes)\n",
        "\n",
        "for document in documents:\n",
        "    bag = []\n",
        "    word_patterns = document[0]\n",
        "    word_patterns = [lemmatizer.lemmatize(word.lower()) for word in word_patterns]\n",
        "    for word in words:\n",
        "        bag.append(1) if word in word_patterns else bag.append(0)\n",
        "\n",
        "    output_row = list(output_empty)\n",
        "    output_row[classes.index(document[1])] = 1\n",
        "    training.append([bag, output_row ])  \n",
        "\n",
        "random.shuffle(training)\n",
        "training = np.array(training)\n",
        "\n",
        "train_x = list(training[:, 0])\n",
        "train_y = list(training[:, 1])\n",
        "\n",
        "model = Sequential()\n",
        "model.add (Dense(128, input_shape= (len(train_x[0]),), activation='relu'))\n",
        "model.add (Dropout (0.5))\n",
        "model.add (Dense(64, activation='relu'))\n",
        "model.add (Dropout(0.5))\n",
        "model.add(Dense(len(train_y[0]), activation='softmax'))\n",
        "\n",
        "sgd = SGD(lr=0.01,decay=1e-6,momentum=0.9,nesterov=True)\n",
        "model.compile(loss='categorical_crossentropy', optimizer=sgd, metrics=['accuracy'])\n",
        "hist = model.fit(np.array(train_x), np.array(train_y), epochs=60, batch_size=5, verbose=1)\n",
        "model.save('chatbotmodel.h5', hist)\n",
        "print(\"Done\")"
      ],
      "metadata": {
        "id": "WHTI6M8QarGu"
      },
      "execution_count": null,
      "outputs": []
    },
    {
      "cell_type": "markdown",
      "source": [
        "#Chatbot Telegram"
      ],
      "metadata": {
        "id": "SGt5Wwchdq9f"
      }
    },
    {
      "cell_type": "code",
      "source": [
        "import random\n",
        "import json\n",
        "import pickle\n",
        "import numpy as np\n",
        "from telebot import *\n",
        "import re\n",
        "import random\n",
        "\n",
        "import nltk\n",
        "from nltk.stem import WordNetLemmatizer\n",
        "\n",
        "from tensorflow.keras.models import load_model\n",
        "\n"
      ],
      "metadata": {
        "id": "w2vEI5ggbAsx"
      },
      "execution_count": null,
      "outputs": []
    },
    {
      "cell_type": "code",
      "execution_count": null,
      "metadata": {
        "id": "trLzmQEsjYQq"
      },
      "outputs": [],
      "source": [
        "\n",
        "bot = telebot.TeleBot(\"5125757787:AAEHjIJ8ug5GaXfZnHDvvOYs_My9AYBydXQ\")\n",
        "\n",
        "#start\n",
        "@bot.message_handler(commands=['start'])\n",
        "def send_start(message):\n",
        "  bot.send_message(message.chat.id,\"selamat datang di chatbot kami\")\n",
        "\n",
        "@bot.message_handler(commands=['photo'])\n",
        "def send_photo(message):\n",
        "  bot.send_photo(message.chat.id, open('unimed1.jpg', \"rb\"))\n",
        "  bot.send_photo(message.chat.id, open('unimed2.jpg', \"rb\"))\n",
        "\n",
        "@bot.message_handler(commands=['location'])\n",
        "def send_location(message):\n",
        "  bot.send_message(message.chat.id,\"https://goo.gl/maps/9kvZ4zps9FLX5FqY9\")\n",
        "  \n",
        "@bot.message_handler(commands=['help'])\n",
        "def send_help(message):\n",
        "  bot.send_message(message.chat.id,\"\"\"list menu : \n",
        "  /start untuk memulai percakapan dengan chatbot,\n",
        "  /photo menampilkan foto dari Universitas Negeri Medan, \n",
        "  /help memberikan informasi tentang apa saja yang dapat\n",
        "            dilakukan chatbot.\n",
        "  /location lokasi dari Universitas Negeri Medan\n",
        "  untuk informasi lebih detail tentang Universitas Negeri Medan \n",
        "  bisa kunjungi website https://www.unimed.ac.id/ \n",
        "  \"\"\")\n",
        "\n",
        "def clean_up_sentence(sentence):\n",
        "    sentence_words = nltk.word_tokenize(sentence)\n",
        "    sentence_words = [lemmatizer.lemmatize(word) for word in sentence_words]\n",
        "    return sentence_words\n",
        "\n",
        "def bag_of_words(sentence):\n",
        "    sentence_words = clean_up_sentence(sentence)\n",
        "    bag = [0] * len(words)\n",
        "    for w in sentence_words:\n",
        "        for i, word in enumerate(words):\n",
        "            if word == w:\n",
        "                bag[i] = 1\n",
        "    \n",
        "    return np.array(bag)\n",
        "\n",
        "def predict_class(sentence):\n",
        "    bow = bag_of_words(sentence)\n",
        "    res = model.predict(np.array([bow]))[0]\n",
        "    ERROR_THRESHOLD = 0.25\n",
        "    results = [[i, r] for i , r in enumerate(res) if r > ERROR_THRESHOLD]\n",
        "\n",
        "    results.sort(key=lambda x: x[1], reverse=True)\n",
        "    return_list = []\n",
        "\n",
        "    for r in results:\n",
        "        return_list.append({'intent':classes[r[0]], 'probability': str(r[1])})\n",
        "    \n",
        "    return return_list\n",
        "\n",
        "def get_response(intents_list, intents_json):\n",
        "    tag = intents_list[0]['intent']\n",
        "    list_of_intents = intents_json['intents']\n",
        "    for i in list_of_intents:\n",
        "        if i['tag'] == tag:\n",
        "            result = random.choice(i['responses'])\n",
        "            break\n",
        "    \n",
        "    return result\n",
        "\n",
        "#chatbot\n",
        "@bot.message_handler(content_types=['text'])\n",
        "def chatbot(message):\n",
        "  teks = message.text\n",
        "  ints = predict_class(teks)\n",
        "  res = get_response(ints, intents)\n",
        " \n",
        "  bot.send_message(message.chat.id, res)\n",
        "\n",
        "bot.infinity_polling()"
      ]
    }
  ]
}